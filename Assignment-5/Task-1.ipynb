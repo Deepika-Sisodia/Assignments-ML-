{
 "cells": [
  {
   "cell_type": "markdown",
   "id": "c5f730ed",
   "metadata": {},
   "source": [
    "Task 1: Theory Questions:\n",
    "\n",
    "1. Core Assumption of Naive Bayes:\n",
    "Naive Bayes assumes that all features are independent of each other given the class label. This is called the “naive” assumption of conditional independence.\n",
    "\n",
    "2. Difference between GaussianNB, MultinomialNB, and BernoulliNB:\n",
    "GaussianNB: Assumes features follow a normal distribution; used for continuous data.\n",
    "MultinomialNB: Assumes features represent counts (e.g., word frequencies); good for text classification.\n",
    "BernoulliNB: Assumes binary features (0/1); suitable for binary/boolean inputs like word presence.\n",
    "\n",
    "3. Why suitable for high-dimensional data?\n",
    "Because it assumes feature independence, Naive Bayes avoids the curse of dimensionality and scales well even when the number of features is very large (e.g., in text data)."
   ]
  }
 ],
 "metadata": {
  "language_info": {
   "name": "python"
  }
 },
 "nbformat": 4,
 "nbformat_minor": 5
}
