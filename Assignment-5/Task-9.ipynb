{
 "cells": [
  {
   "cell_type": "markdown",
   "id": "ceb84a19",
   "metadata": {},
   "source": [
    "Task 9: AdaBoost / Gradient Boosting"
   ]
  },
  {
   "cell_type": "code",
   "execution_count": 2,
   "id": "99dc7edc",
   "metadata": {},
   "outputs": [],
   "source": [
    "# Load and preprocess Titanic dataset\n",
    "import seaborn as sns\n",
    "from sklearn.model_selection import train_test_split\n",
    "from sklearn.preprocessing import LabelEncoder\n",
    "\n",
    "df = sns.load_dataset('titanic')\n",
    "df = df[['survived', 'pclass', 'sex', 'age', 'fare']].dropna()\n",
    "df['sex'] = LabelEncoder().fit_transform(df['sex'])\n",
    "\n",
    "X = df.drop('survived', axis=1)\n",
    "y = df['survived']\n",
    "\n",
    "X_train, X_test, y_train, y_test = train_test_split(X, y, test_size=0.3, random_state=42)\n"
   ]
  },
  {
   "cell_type": "code",
   "execution_count": 3,
   "id": "3c2fd4c0",
   "metadata": {},
   "outputs": [
    {
     "name": "stdout",
     "output_type": "stream",
     "text": [
      "AdaBoost Accuracy: 0.7534883720930232\n",
      "F1-score: 0.7135135135135136\n",
      "Training Time: 0.0976858139038086\n",
      "Gradient Boosting Accuracy: 0.786046511627907\n",
      "F1-score: 0.7294117647058823\n",
      "Training Time: 0.06954002380371094\n"
     ]
    }
   ],
   "source": [
    "from sklearn.ensemble import AdaBoostClassifier, GradientBoostingClassifier\n",
    "from sklearn.metrics import f1_score, accuracy_score\n",
    "import time\n",
    "\n",
    "# AdaBoost\n",
    "start = time.time()\n",
    "ab = AdaBoostClassifier(n_estimators=50, random_state=42)\n",
    "ab.fit(X_train, y_train)\n",
    "end = time.time()\n",
    "print(\"AdaBoost Accuracy:\", accuracy_score(y_test, ab.predict(X_test)))\n",
    "print(\"F1-score:\", f1_score(y_test, ab.predict(X_test)))\n",
    "print(\"Training Time:\", end - start)\n",
    "\n",
    "# Gradient Boosting\n",
    "start = time.time()\n",
    "gb = GradientBoostingClassifier(n_estimators=100, random_state=42)\n",
    "gb.fit(X_train, y_train)\n",
    "end = time.time()\n",
    "print(\"Gradient Boosting Accuracy:\", accuracy_score(y_test, gb.predict(X_test)))\n",
    "print(\"F1-score:\", f1_score(y_test, gb.predict(X_test)))\n",
    "print(\"Training Time:\", end - start)\n"
   ]
  }
 ],
 "metadata": {
  "kernelspec": {
   "display_name": "Python 3",
   "language": "python",
   "name": "python3"
  },
  "language_info": {
   "codemirror_mode": {
    "name": "ipython",
    "version": 3
   },
   "file_extension": ".py",
   "mimetype": "text/x-python",
   "name": "python",
   "nbconvert_exporter": "python",
   "pygments_lexer": "ipython3",
   "version": "3.12.1"
  }
 },
 "nbformat": 4,
 "nbformat_minor": 5
}
