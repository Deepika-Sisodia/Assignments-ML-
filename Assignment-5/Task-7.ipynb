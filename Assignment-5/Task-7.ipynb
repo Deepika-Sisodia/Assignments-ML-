{
 "cells": [
  {
   "cell_type": "markdown",
   "id": "948fcbe1",
   "metadata": {},
   "source": [
    "Task 7: Conceptual Questions\n",
    "\n",
    "1. Bagging vs Boosting:\n",
    "Bagging: Builds models independently in parallel (e.g., Random Forest).\n",
    "Boosting: Builds models sequentially, correcting previous errors (e.g., AdaBoost, Gradient Boosting).\n",
    "\n",
    "2. Random Forest Reduces Variance:\n",
    "By averaging predictions of multiple trees trained on different subsets, it reduces overfitting and hence lowers variance.\n",
    "\n",
    "3. Weakness of Boosting:\n",
    "Boosting can overfit noisy data and is more sensitive to outliers due to its focus on hard examples."
   ]
  }
 ],
 "metadata": {
  "language_info": {
   "name": "python"
  }
 },
 "nbformat": 4,
 "nbformat_minor": 5
}
