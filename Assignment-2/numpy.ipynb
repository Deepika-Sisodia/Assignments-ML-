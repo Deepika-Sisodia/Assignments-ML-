{
 "cells": [
  {
   "cell_type": "markdown",
   "id": "9a53f394",
   "metadata": {},
   "source": [
    "Task 1: Creating Arrays\n",
    "\n",
    "1. Write a Python program to:\n",
    "o Create a 1D NumPy array of 10 integers ranging from 1 to 10."
   ]
  },
  {
   "cell_type": "code",
   "execution_count": 6,
   "id": "1caa9d86",
   "metadata": {},
   "outputs": [
    {
     "name": "stdout",
     "output_type": "stream",
     "text": [
      "[ 1  2  3  4  5  6  7  8  9 10]\n"
     ]
    }
   ],
   "source": [
    "import numpy as np\n",
    "arr1=np.arange(1,11)\n",
    "print(arr1)"
   ]
  },
  {
   "cell_type": "markdown",
   "id": "cc3e5a2f",
   "metadata": {},
   "source": [
    "Create a 2D NumPy array of shape (3, 3) with integers from 1\n",
    "to 9?"
   ]
  },
  {
   "cell_type": "code",
   "execution_count": 7,
   "id": "cd2d3245",
   "metadata": {},
   "outputs": [
    {
     "name": "stdout",
     "output_type": "stream",
     "text": [
      "[[1 2 3]\n",
      " [4 5 6]\n",
      " [7 8 9]]\n"
     ]
    }
   ],
   "source": [
    "arr2=np.arange(1,10).reshape(3,3)\n",
    "print(arr2)"
   ]
  },
  {
   "cell_type": "markdown",
   "id": "a44db990",
   "metadata": {},
   "source": [
    "Create a 3D NumPy array with random floating-point numbers\n",
    "of shape (3, 5, 3)?"
   ]
  },
  {
   "cell_type": "code",
   "execution_count": 8,
   "id": "cc1865e9",
   "metadata": {},
   "outputs": [
    {
     "name": "stdout",
     "output_type": "stream",
     "text": [
      "[[[0.9959762  0.26421465 0.85935128]\n",
      "  [0.17893099 0.65360583 0.83550095]\n",
      "  [0.38635366 0.40526962 0.28384155]\n",
      "  [0.94452545 0.85677529 0.88199555]\n",
      "  [0.55482287 0.17604261 0.10989446]]\n",
      "\n",
      " [[0.92883112 0.51079998 0.7465701 ]\n",
      "  [0.8730364  0.05924018 0.45336512]\n",
      "  [0.51121717 0.81795211 0.14896026]\n",
      "  [0.94295047 0.15114374 0.45471275]\n",
      "  [0.62268857 0.4002325  0.42647069]]\n",
      "\n",
      " [[0.69668468 0.16497491 0.08543099]\n",
      "  [0.30831762 0.67818634 0.29334624]\n",
      "  [0.59055323 0.14241688 0.4537605 ]\n",
      "  [0.82449975 0.31915454 0.22254312]\n",
      "  [0.58623407 0.95325067 0.19541212]]]\n"
     ]
    }
   ],
   "source": [
    "arr3=np.random.rand(3,5,3)\n",
    "print(arr3)"
   ]
  },
  {
   "cell_type": "markdown",
   "id": "7f726d4f",
   "metadata": {},
   "source": [
    "2. Display the shape, size, and datatype of each array."
   ]
  },
  {
   "cell_type": "code",
   "execution_count": 9,
   "id": "60de7dcd",
   "metadata": {},
   "outputs": [
    {
     "name": "stdout",
     "output_type": "stream",
     "text": [
      "\n",
      "1D Array:\n",
      "[ 1  2  3  4  5  6  7  8  9 10]\n",
      "Shape: (10,)\n",
      "Size: 10\n",
      "Datatype: int64\n",
      "\n",
      "2D Array:\n",
      "[[1 2 3]\n",
      " [4 5 6]\n",
      " [7 8 9]]\n",
      "Shape: (3, 3)\n",
      "Size: 9\n",
      "Datatype: int64\n",
      "\n",
      "3D Array:\n",
      "[[[0.9959762  0.26421465 0.85935128]\n",
      "  [0.17893099 0.65360583 0.83550095]\n",
      "  [0.38635366 0.40526962 0.28384155]\n",
      "  [0.94452545 0.85677529 0.88199555]\n",
      "  [0.55482287 0.17604261 0.10989446]]\n",
      "\n",
      " [[0.92883112 0.51079998 0.7465701 ]\n",
      "  [0.8730364  0.05924018 0.45336512]\n",
      "  [0.51121717 0.81795211 0.14896026]\n",
      "  [0.94295047 0.15114374 0.45471275]\n",
      "  [0.62268857 0.4002325  0.42647069]]\n",
      "\n",
      " [[0.69668468 0.16497491 0.08543099]\n",
      "  [0.30831762 0.67818634 0.29334624]\n",
      "  [0.59055323 0.14241688 0.4537605 ]\n",
      "  [0.82449975 0.31915454 0.22254312]\n",
      "  [0.58623407 0.95325067 0.19541212]]]\n",
      "Shape: (3, 5, 3)\n",
      "Size: 45\n",
      "Datatype: float64\n"
     ]
    }
   ],
   "source": [
    "def display(name, arr):\n",
    "    print(f\"\\n{name}:\")\n",
    "    print(arr)\n",
    "    print(f\"Shape: {arr.shape}\")\n",
    "    print(f\"Size: {arr.size}\")\n",
    "    print(f\"Datatype: {arr.dtype}\")\n",
    "\n",
    "# Display information for all arrays\n",
    "display(\"1D Array\", arr1)\n",
    "display(\"2D Array\", arr2)\n",
    "display(\"3D Array\", arr3)"
   ]
  },
  {
   "cell_type": "markdown",
   "id": "4e255867",
   "metadata": {},
   "source": [
    "Task 2: Array Indexing and Slicing\n",
    "\n",
    "1. Create a NumPy array from the following list:\n",
    "data = [10, 20, 30, 40, 50, 60, 70, 80, 90]"
   ]
  },
  {
   "cell_type": "code",
   "execution_count": 10,
   "id": "be600fdd",
   "metadata": {},
   "outputs": [
    {
     "name": "stdout",
     "output_type": "stream",
     "text": [
      "[10 20 30 40 50 60 70 80 90]\n"
     ]
    }
   ],
   "source": [
    "data=[10, 20, 30, 40, 50, 60, 70, 80, 90]\n",
    "arr=np.array(data)\n",
    "print(arr)"
   ]
  },
  {
   "cell_type": "markdown",
   "id": "70ca5df7",
   "metadata": {},
   "source": [
    "2. Write a Python program to:\n",
    "Retrieve the first three elements of the array.\n",
    "Retrieve every alternate element of the array.\n",
    "Reverse the array.\n",
    "3. Perform the above operations and display the results"
   ]
  },
  {
   "cell_type": "code",
   "execution_count": 14,
   "id": "be39d4cb",
   "metadata": {},
   "outputs": [
    {
     "name": "stdout",
     "output_type": "stream",
     "text": [
      "[10 20 30]\n",
      "[10 30 50 70 90]\n",
      "[90 80 70 60 50 40 30 20 10]\n"
     ]
    }
   ],
   "source": [
    "print(arr[:3])\n",
    "print(arr[::2])\n",
    "print(arr[::-1])"
   ]
  },
  {
   "cell_type": "markdown",
   "id": "a297af49",
   "metadata": {},
   "source": [
    "Task 3: Mathematical Operations\n",
    "\n",
    "1. Create two NumPy arrays, A and B, each with 5 random integers\n",
    "between 1 and 20.\n",
    "2. Write a Python program to:\n",
    "- Add, subtract, multiply, and divide the two arrays elementwise.\n",
    "- Compute the dot product of the arrays.\n",
    "- Find the mean, median, standard deviation, and variance of\n",
    "array A.\n",
    "- Identify the maximum and minimum values in array B and\n",
    "their indices.\n"
   ]
  },
  {
   "cell_type": "code",
   "execution_count": 16,
   "id": "a5912dcb",
   "metadata": {},
   "outputs": [
    {
     "name": "stdout",
     "output_type": "stream",
     "text": [
      "[ 2  4 16 13 11]\n",
      "[ 6 12 10 12  8]\n"
     ]
    }
   ],
   "source": [
    "a=np.random.randint(1,21,5)\n",
    "b=np.random.randint(1,21,5)\n",
    "print(a)\n",
    "print(b)"
   ]
  },
  {
   "cell_type": "code",
   "execution_count": 17,
   "id": "1d665100",
   "metadata": {},
   "outputs": [
    {
     "name": "stdout",
     "output_type": "stream",
     "text": [
      "\n",
      "Addition: [ 8 16 26 25 19]\n",
      "Subtraction: [-4 -8  6  1  3]\n",
      "Multiplication: [ 12  48 160 156  88]\n",
      "Division: [0.33333333 0.33333333 1.6        1.08333333 1.375     ]\n"
     ]
    }
   ],
   "source": [
    "print(\"\\nAddition:\", a+ b)\n",
    "print(\"Subtraction:\", a - b)\n",
    "print(\"Multiplication:\", a * b)\n",
    "print(\"Division:\", a / b)"
   ]
  },
  {
   "cell_type": "code",
   "execution_count": 18,
   "id": "5ae50d08",
   "metadata": {},
   "outputs": [
    {
     "name": "stdout",
     "output_type": "stream",
     "text": [
      "464\n"
     ]
    }
   ],
   "source": [
    "Dot_Product=np.dot(a,b)\n",
    "print(Dot_Product)"
   ]
  },
  {
   "cell_type": "code",
   "execution_count": 19,
   "id": "560e2f3d",
   "metadata": {},
   "outputs": [
    {
     "name": "stdout",
     "output_type": "stream",
     "text": [
      "9.2\n",
      "11.0\n",
      "5.344155686354955\n",
      "28.560000000000002\n"
     ]
    }
   ],
   "source": [
    "print(np.mean(a))\n",
    "print(np.median(a))\n",
    "print(np.std(a))\n",
    "print(np.var(a))"
   ]
  },
  {
   "cell_type": "code",
   "execution_count": 20,
   "id": "24b27eb8",
   "metadata": {},
   "outputs": [
    {
     "name": "stdout",
     "output_type": "stream",
     "text": [
      "12 1\n",
      "6 0\n"
     ]
    }
   ],
   "source": [
    "print(np.max(b),np.argmax(b))\n",
    "print(np.min(b),np.argmin(b))"
   ]
  },
  {
   "cell_type": "markdown",
   "id": "f4dd160e",
   "metadata": {},
   "source": [
    "Task 4: Reshaping and Transposing\n",
    "\n",
    "1. Create a 1D NumPy array of 12 integers ranging from 1 to 12.\n",
    "2. Write a Python program to:\n",
    "o Reshape the array into a 2D array of shape (4, 3).\n",
    "o Reshape the array into a 3D array of shape (2, 2, 3).\n",
    "o Transpose the reshaped 2D array and display its shape."
   ]
  },
  {
   "cell_type": "code",
   "execution_count": 21,
   "id": "2e183456",
   "metadata": {},
   "outputs": [
    {
     "name": "stdout",
     "output_type": "stream",
     "text": [
      "[ 1  2  3  4  5  6  7  8  9 10 11 12]\n"
     ]
    }
   ],
   "source": [
    "arr=np.arange(1,13)\n",
    "print(arr)"
   ]
  },
  {
   "cell_type": "code",
   "execution_count": 22,
   "id": "16f0695a",
   "metadata": {},
   "outputs": [
    {
     "name": "stdout",
     "output_type": "stream",
     "text": [
      "[[ 1  2  3]\n",
      " [ 4  5  6]\n",
      " [ 7  8  9]\n",
      " [10 11 12]]\n"
     ]
    }
   ],
   "source": [
    "arr2=np.arange(1,13).reshape(4,3)\n",
    "print(arr2)"
   ]
  },
  {
   "cell_type": "code",
   "execution_count": 23,
   "id": "a7b51ace",
   "metadata": {},
   "outputs": [
    {
     "name": "stdout",
     "output_type": "stream",
     "text": [
      "[[[ 1  2  3]\n",
      "  [ 4  5  6]]\n",
      "\n",
      " [[ 7  8  9]\n",
      "  [10 11 12]]]\n"
     ]
    }
   ],
   "source": [
    "arr3=np.arange(1,13).reshape(2,2,3)\n",
    "print(arr3)"
   ]
  },
  {
   "cell_type": "code",
   "execution_count": 24,
   "id": "3dfb4760",
   "metadata": {},
   "outputs": [
    {
     "name": "stdout",
     "output_type": "stream",
     "text": [
      "[[ 1  4  7 10]\n",
      " [ 2  5  8 11]\n",
      " [ 3  6  9 12]]\n",
      "(3, 4)\n"
     ]
    }
   ],
   "source": [
    "arr2=np.arange(1,13).reshape(4,3).T\n",
    "print(arr2)\n",
    "\n",
    "print(arr2.shape)"
   ]
  },
  {
   "cell_type": "markdown",
   "id": "aedeec04",
   "metadata": {},
   "source": [
    "Task 5: Boolean Masking and Filtering\n",
    "\n",
    "1. Create a NumPy array with 15 random integers between 10 and 50.\n",
    "2. Write a Python program to:\n",
    "- Find all elements greater than 25.\n",
    "- Replace all elements less than 30 with 0.\n",
    "- Count the number of elements divisible by 5."
   ]
  },
  {
   "cell_type": "code",
   "execution_count": 25,
   "id": "9c46c4c7",
   "metadata": {},
   "outputs": [
    {
     "name": "stdout",
     "output_type": "stream",
     "text": [
      "[10 15 12 45 46 27 16 50 50 36 47 15 15 28 35]\n"
     ]
    }
   ],
   "source": [
    "arr=np.random.randint(10,51,15)\n",
    "print(arr)"
   ]
  },
  {
   "cell_type": "code",
   "execution_count": 26,
   "id": "60606d7a",
   "metadata": {},
   "outputs": [
    {
     "name": "stdout",
     "output_type": "stream",
     "text": [
      "[45 46 27 50 50 36 47 28 35]\n"
     ]
    }
   ],
   "source": [
    "print(arr[arr>25])"
   ]
  },
  {
   "cell_type": "code",
   "execution_count": 27,
   "id": "16204c61",
   "metadata": {},
   "outputs": [
    {
     "name": "stdout",
     "output_type": "stream",
     "text": [
      "[ 0  0  0 45 46  0  0 50 50 36 47  0  0  0 35]\n"
     ]
    }
   ],
   "source": [
    "arr2=arr.copy()\n",
    "arr2[arr2<30]=0\n",
    "print(arr2)"
   ]
  },
  {
   "cell_type": "code",
   "execution_count": 28,
   "id": "a3761c5a",
   "metadata": {},
   "outputs": [
    {
     "name": "stdout",
     "output_type": "stream",
     "text": [
      "[10 15 45 50 50 15 15 35]\n",
      "8\n"
     ]
    }
   ],
   "source": [
    "count=arr[(arr%5==0)&(arr!=0)]\n",
    "print(count)\n",
    "print(count.size)"
   ]
  },
  {
   "cell_type": "markdown",
   "id": "1278161a",
   "metadata": {},
   "source": [
    "Task 6: Working with Built-in Functions\n",
    "\n",
    "1. Use NumPy's built-in functions to:\n",
    "- Create an array of 10 equally spaced values between 0 and 1.\n",
    "- Create an identity matrix of size 4x4.\n",
    "- Generate a 1D array of 20 random integers between 1 and 100,\n",
    "sort it, and find the 5 largest elements."
   ]
  },
  {
   "cell_type": "code",
   "execution_count": 29,
   "id": "868bf782",
   "metadata": {},
   "outputs": [
    {
     "name": "stdout",
     "output_type": "stream",
     "text": [
      "[0.         0.11111111 0.22222222 0.33333333 0.44444444 0.55555556\n",
      " 0.66666667 0.77777778 0.88888889 1.        ]\n"
     ]
    }
   ],
   "source": [
    "arr=np.linspace(0,1,10)\n",
    "print(arr)"
   ]
  },
  {
   "cell_type": "code",
   "execution_count": 30,
   "id": "beac434e",
   "metadata": {},
   "outputs": [
    {
     "name": "stdout",
     "output_type": "stream",
     "text": [
      "[[1. 0. 0. 0.]\n",
      " [0. 1. 0. 0.]\n",
      " [0. 0. 1. 0.]\n",
      " [0. 0. 0. 1.]]\n"
     ]
    }
   ],
   "source": [
    "arr2=np.eye(4)\n",
    "print(arr2)"
   ]
  },
  {
   "cell_type": "code",
   "execution_count": 31,
   "id": "90015292",
   "metadata": {},
   "outputs": [
    {
     "name": "stdout",
     "output_type": "stream",
     "text": [
      "[91 69 22 38 30 90 54 25 15 51 57 16  1 24 77 82  5  9 70 90]\n"
     ]
    }
   ],
   "source": [
    "arr3=np.random.randint(1,101,20)\n",
    "print(arr3)"
   ]
  },
  {
   "cell_type": "code",
   "execution_count": 32,
   "id": "c1af3c0a",
   "metadata": {},
   "outputs": [
    {
     "name": "stdout",
     "output_type": "stream",
     "text": [
      "[ 1  5  9 15 16 22 24 25 30 38 51 54 57 69 70 77 82 90 90 91]\n"
     ]
    }
   ],
   "source": [
    "sorted=np.sort(arr3)\n",
    "print(sorted)"
   ]
  },
  {
   "cell_type": "code",
   "execution_count": 33,
   "id": "83d66966",
   "metadata": {},
   "outputs": [
    {
     "name": "stdout",
     "output_type": "stream",
     "text": [
      "[77 82 90 90 91]\n"
     ]
    }
   ],
   "source": [
    "print(sorted[-5:])"
   ]
  },
  {
   "cell_type": "markdown",
   "id": "b9eef0a3",
   "metadata": {},
   "source": [
    "Task 7: Generic\n",
    "\n",
    "1. Create a Python program that:\n",
    "- Generates two large random arrays of size (100, 100).\n",
    "- Performs matrix multiplication on the two arrays.\n",
    "- Finds the determinant and inverse of the resulting matrix (if\n",
    "possible).\n",
    "- Measures the time taken to complete these operations."
   ]
  },
  {
   "cell_type": "code",
   "execution_count": 36,
   "id": "26371546",
   "metadata": {},
   "outputs": [
    {
     "name": "stdout",
     "output_type": "stream",
     "text": [
      "Product:  [[26.73350312 28.00603447 29.39305049 ... 29.20219078 29.81030501\n",
      "  27.50201686]\n",
      " [27.1587882  27.33892268 29.39784512 ... 28.81323674 30.75214712\n",
      "  28.60961151]\n",
      " [26.84520555 25.43949305 28.02526685 ... 27.66079258 30.14862827\n",
      "  27.19978233]\n",
      " ...\n",
      " [26.5426202  25.61942729 27.3922348  ... 26.92629259 26.04042769\n",
      "  24.59763851]\n",
      " [26.27342796 26.0648211  27.98064244 ... 29.08276753 29.56407601\n",
      "  25.39513936]\n",
      " [25.39062261 25.68228499 25.81192464 ... 27.03038331 27.0602039\n",
      "  24.32543841]]\n",
      "Matrix Multiplication is completed in 0.0047 seconds.\n",
      "\n",
      "Determinant :  -4.552805061255789e+51\n",
      "Time taken to calculate determinant is 0.0009 seconds\n",
      "\n",
      "Inverse:  [[ 0.80300963  1.50749006  0.24882822 ...  1.2389025   1.22657828\n",
      "   0.5745288 ]\n",
      " [ 1.523656    1.86763042  0.19751908 ...  0.76315883  3.60038833\n",
      "   1.55855481]\n",
      " [-0.92303806 -2.15236516 -1.11401562 ... -1.23101162 -2.71637042\n",
      "  -1.22138142]\n",
      " ...\n",
      " [ 0.44574615  0.42541631  0.01431212 ...  0.17948714  0.11976272\n",
      "   0.46231405]\n",
      " [-0.64956285  0.54305815  0.23179143 ...  0.68683051 -2.61810194\n",
      "  -0.63023286]\n",
      " [ 0.22024021  0.07558821 -0.40867152 ... -0.03287775  0.23125064\n",
      "  -0.04667824]]\n",
      "Time taken to calculate Inverse is 0.1537 seconds\n",
      "\n"
     ]
    }
   ],
   "source": [
    "import numpy as np\n",
    "import seaborn as sns\n",
    "import matplotlib.pyplot as plt\n",
    "import time\n",
    "\n",
    "a = np.random.rand(100, 100)    #Two random arrays.\n",
    "b = np.random.rand(100, 100)\n",
    "\n",
    "start_time = time.time()\n",
    "product = np.dot(a, b)   \n",
    "\n",
    "#Matix Multiplication\n",
    "Multiplication_time=time.time()-start_time\n",
    "print(\"Product: \",product)\n",
    "print(f\"Matrix Multiplication is completed in {Multiplication_time:.4f} seconds.\")\n",
    "print()\n",
    "\n",
    "start_time = time.time()\n",
    "det=np.linalg.det(product)      \n",
    "\n",
    "#Determinant of Matrix.\n",
    "Determinant_time = time.time()-start_time\n",
    "print(\"Determinant : \",det)\n",
    "print(f\"Time taken to calculate determinant is {Determinant_time:.4f} seconds\")\n",
    "print()\n",
    "\n",
    "if np.isclose(det, 0):\n",
    "    print(\"The Matrix is singular and cannot be inverted.\")\n",
    "else:\n",
    "    start_time=time.time()\n",
    "    inverse=np.linalg.inv(product)      #Inverse of Matrix.\n",
    "    Inverse_time=time.time()-start_time\n",
    "    print(\"Inverse: \",inverse)\n",
    "    print(f\"Time taken to calculate Inverse is {Inverse_time:.4f} seconds\")\n",
    "    print()\n",
    "\n",
    "\n"
   ]
  }
 ],
 "metadata": {
  "kernelspec": {
   "display_name": "Python 3",
   "language": "python",
   "name": "python3"
  },
  "language_info": {
   "codemirror_mode": {
    "name": "ipython",
    "version": 3
   },
   "file_extension": ".py",
   "mimetype": "text/x-python",
   "name": "python",
   "nbconvert_exporter": "python",
   "pygments_lexer": "ipython3",
   "version": "3.12.1"
  }
 },
 "nbformat": 4,
 "nbformat_minor": 5
}
