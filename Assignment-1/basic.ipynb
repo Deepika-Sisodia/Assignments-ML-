{
 "cells": [
  {
   "cell_type": "markdown",
   "id": "05734e2d",
   "metadata": {},
   "source": [
    "Task 1:\n",
    "\n",
    "WAP to Make a custom exception?"
   ]
  },
  {
   "cell_type": "code",
   "execution_count": 2,
   "id": "49ba5fc1",
   "metadata": {},
   "outputs": [
    {
     "name": "stdout",
     "output_type": "stream",
     "text": [
      "Custom exception: Number cannot be negative!\n"
     ]
    }
   ],
   "source": [
    "class MyCustomException(Exception):\n",
    "    def __init__(self, message):\n",
    "        super().__init__(message)\n",
    "        \n",
    "def check_number(n):\n",
    "    if n < 0:\n",
    "        raise MyCustomException(\"Number cannot be negative!\")\n",
    "    else:\n",
    "        print(f\"Number is valid: {n}\")\n",
    "\n",
    "try:\n",
    "    check_number(-5)\n",
    "except MyCustomException as ex:\n",
    "    print(\"Custom exception:\", ex)"
   ]
  },
  {
   "cell_type": "markdown",
   "id": "e4e41cfa",
   "metadata": {},
   "source": [
    "Task 2:\n",
    "\n",
    "WAP to Make a 2-d array and read and write it in a csv format?"
   ]
  },
  {
   "cell_type": "code",
   "execution_count": 3,
   "id": "3aed0f54",
   "metadata": {},
   "outputs": [
    {
     "name": "stdout",
     "output_type": "stream",
     "text": [
      "[1, 2, 3]\n",
      "[4, 5, 6]\n",
      "[7, 8, 9]\n"
     ]
    }
   ],
   "source": [
    "import csv\n",
    "arr = [\n",
    "    [1, 2, 3],\n",
    "    [4, 5, 6],\n",
    "    [7, 8, 9]\n",
    "]\n",
    "# Write\n",
    "with open(\"matrix.csv\", mode=\"w\", newline=\"\") as file:\n",
    "    writer = csv.writer(file)\n",
    "    writer.writerows(arr)\n",
    "\n",
    "# Read \n",
    "arr = []\n",
    "with open(\"matrix.csv\", mode=\"r\") as file:\n",
    "    reader = csv.reader(file)\n",
    "    for row in reader:\n",
    "        arr.append([int(val) for val in row])\n",
    "\n",
    "for row in arr:\n",
    "    print(row)\n"
   ]
  }
 ],
 "metadata": {
  "kernelspec": {
   "display_name": "Python 3",
   "language": "python",
   "name": "python3"
  },
  "language_info": {
   "codemirror_mode": {
    "name": "ipython",
    "version": 3
   },
   "file_extension": ".py",
   "mimetype": "text/x-python",
   "name": "python",
   "nbconvert_exporter": "python",
   "pygments_lexer": "ipython3",
   "version": "3.11.3"
  }
 },
 "nbformat": 4,
 "nbformat_minor": 5
}
